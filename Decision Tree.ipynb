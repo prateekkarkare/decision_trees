{
 "cells": [
  {
   "cell_type": "code",
   "execution_count": 1,
   "metadata": {},
   "outputs": [],
   "source": [
    "import collections"
   ]
  },
  {
   "cell_type": "code",
   "execution_count": 2,
   "metadata": {},
   "outputs": [],
   "source": [
    "my_data = [line.split('\\t') for line in open('decision_tree_example.txt')]"
   ]
  },
  {
   "cell_type": "code",
   "execution_count": 3,
   "metadata": {},
   "outputs": [],
   "source": [
    "class decisionnode(object):\n",
    "  def __init__(self, col=-1, value=None, results=None, tb=None, fb=None):\n",
    "    self.col = col  # colum index of value to test\n",
    "    self.value = value  # reference value\n",
    "    self.results = results  # stores results in leafs, empty for inner nodes\n",
    "    self.tb = tb  # child on true branch\n",
    "    self.fb = fb  # child on false branch"
   ]
  },
  {
   "cell_type": "code",
   "execution_count": 4,
   "metadata": {},
   "outputs": [],
   "source": [
    "def divideset(rows, column, value):\n",
    "  split_function = None\n",
    "  if isinstance(value, int) or isinstance(value, float):\n",
    "    split_function = lambda row: row[column] >= value\n",
    "  else:\n",
    "    split_function = lambda row: row[column] == value\n",
    "        \n",
    "  # There has to be a `partition` or `group` function somewhere\n",
    "  set1 = [row for row in rows if split_function(row)]\n",
    "  set2 = [row for row in rows if not split_function(row)]\n",
    "  return (set1, set2)"
   ]
  },
  {
   "cell_type": "code",
   "execution_count": 5,
   "metadata": {},
   "outputs": [],
   "source": [
    "def uniquecounts(rows):\n",
    "  results = collections.defaultdict(int)\n",
    "  for row in rows:\n",
    "    # Result is last column\n",
    "    r = row[len(row) - 1]\n",
    "    results[r] += 1\n",
    "  return dict(results)"
   ]
  },
  {
   "cell_type": "code",
   "execution_count": 6,
   "metadata": {},
   "outputs": [],
   "source": [
    "def giniimpurity(rows):\n",
    "  \"\"\"Returns probability that a randomly placed item will end up in the wrong\n",
    "  category. A low result means that stuff is categorized well.\"\"\"\n",
    "  total = len(rows)\n",
    "  counts = uniquecounts(rows)\n",
    "  imp = 0\n",
    "  # O(n^2) in number of categories\n",
    "  for k1 in counts:\n",
    "    p1 = float(counts[k1])/total  # XXX: These loops can be written more nicely\n",
    "    for k2 in counts:\n",
    "      if k1 == k2: continue\n",
    "      p2 = float(counts[k2])/total\n",
    "      imp += p1*p2\n",
    "  return imp"
   ]
  },
  {
   "cell_type": "code",
   "execution_count": 7,
   "metadata": {},
   "outputs": [],
   "source": [
    "def entropy(rows):\n",
    "  from math import log\n",
    "  log2 = lambda x: log(x)/log(2)\n",
    "  results = uniquecounts(rows)\n",
    "  ent = 0.0\n",
    "  for r in results:\n",
    "    p = float(results[r])/len(rows)\n",
    "    ent -= p*log2(p)\n",
    "  return ent"
   ]
  },
  {
   "cell_type": "code",
   "execution_count": 8,
   "metadata": {},
   "outputs": [],
   "source": [
    "def variance(rows):\n",
    "  if len(rows) == 0: return 0\n",
    "  data = [float(row[len(row) - 1]) for row in rows]\n",
    "  mean = sum(data) / len(data)\n",
    "\n",
    "  # this gives indexoutofbounds in zillow example\n",
    "  #variance = sum([(d-mean)**2 for d in data]) / (len(data) - 1)\n",
    "\n",
    "  variance = sum([(d-mean)**2 for d in data]) / len(data)\n",
    "  return variance"
   ]
  },
  {
   "cell_type": "code",
   "execution_count": 9,
   "metadata": {},
   "outputs": [],
   "source": [
    "def buildtree(rows, scorefun=entropy):\n",
    "  if len(rows) == 0: return decisionnode()\n",
    "  current_score = scorefun(rows)\n",
    "\n",
    "  best_gain = 0.0\n",
    "  best_criteria = None\n",
    "  best_sets = None\n",
    "\n",
    "  column_count = len(rows[0]) - 1  # last column is result\n",
    "  for col in range(0, column_count):\n",
    "    # find different values in this column\n",
    "    column_values = set([row[col] for row in rows])\n",
    "\n",
    "    # for each possible value, try to divide on that value\n",
    "    for value in column_values:\n",
    "      set1, set2 = divideset(rows, col, value)\n",
    "\n",
    "      # Information gain\n",
    "      p = float(len(set1)) / len(rows)\n",
    "      gain = current_score - p*scorefun(set1) - (1-p)*scorefun(set2)\n",
    "      if gain > best_gain and len(set1) > 0 and len(set2) > 0:\n",
    "        best_gain = gain\n",
    "        best_criteria = (col, value)\n",
    "        best_sets = (set1, set2)\n",
    "\n",
    "  if best_gain > 0:\n",
    "    trueBranch = buildtree(best_sets[0])\n",
    "    falseBranch = buildtree(best_sets[1])\n",
    "    return decisionnode(col=best_criteria[0], value=best_criteria[1],\n",
    "        tb=trueBranch, fb=falseBranch)\n",
    "  else:\n",
    "    return decisionnode(results=uniquecounts(rows))"
   ]
  },
  {
   "cell_type": "code",
   "execution_count": 13,
   "metadata": {},
   "outputs": [],
   "source": [
    "def printtree(tree, indent=''):\n",
    "  if tree.results != None:  # leaf node\n",
    "    print(tree.results)\n",
    "  else:\n",
    "    print('%s:%s?' % (tree.col, tree.value))\n",
    "\n",
    "    print(indent + 'T->', printtree(tree.tb, indent + '  '))\n",
    "    print(indent + 'F->', printtree(tree.fb, indent + '  '))"
   ]
  },
  {
   "cell_type": "code",
   "execution_count": 14,
   "metadata": {},
   "outputs": [],
   "source": [
    "def classify(observation, tree):\n",
    "  if tree.results != None:  # leaf\n",
    "    return tree.results\n",
    "  else:\n",
    "    v = observation[tree.col]\n",
    "    branch = None\n",
    "    if isinstance(v, int) or isinstance(v, float):\n",
    "      if v >= tree.value: branch = tree.tb\n",
    "      else: branch = tree.fb\n",
    "    else:\n",
    "      if v == tree.value: branch = tree.tb\n",
    "      else: branch = tree.fb\n",
    "    return classify(observation, branch)"
   ]
  },
  {
   "cell_type": "code",
   "execution_count": 15,
   "metadata": {},
   "outputs": [],
   "source": [
    "def prune(tree, mingain):\n",
    "  # recurse\n",
    "  if tree.tb.results == None: prune(tree.tb, mingain)\n",
    "  if tree.fb.results == None: prune(tree.fb, mingain)\n",
    "\n",
    "  # merge leaves (potentionally)\n",
    "  if tree.tb.results != None and tree.fb.results != None:\n",
    "    tb, fb = [], []\n",
    "    for v, c in tree.tb.results.iteritems(): tb += [[v]] * c\n",
    "    for v, c in tree.fb.results.iteritems(): fb += [[v]] * c\n",
    "\n",
    "    p = float(len(tb)) / len(tb + fb)\n",
    "    delta = entropy(tb+fb) - p*entropy(tb) - (1-p)*entropy(fb)\n",
    "    if delta < mingain:\n",
    "      tree.tb, tree.fb = None, None\n",
    "      tree.results = uniquecounts(tb + fb)"
   ]
  },
  {
   "cell_type": "code",
   "execution_count": 16,
   "metadata": {},
   "outputs": [],
   "source": [
    "# 'missing data classify'\n",
    "def mdclassify(observation, tree):\n",
    "  if tree.results != None:  # leaf\n",
    "    return tree.results\n",
    "  else:\n",
    "    v = observation[tree.col]\n",
    "    if v == None:\n",
    "      tr = mdclassify(observation, tree.tb)\n",
    "      fr = mdclassify(observation, tree.fb)\n",
    "      tcount = sum(tr.values())\n",
    "      fcount = sum(fr.values())\n",
    "      tw = float(tcount)/(tcount + fcount)\n",
    "      fw = float(fcount)/(tcount + fcount)\n",
    "      result = collections.defaultdict(int)\n",
    "      for k, v in tr.iteritems(): result[k] += v*tw\n",
    "      for k, v in fr.iteritems(): result[k] += v*fw\n",
    "      return dict(result)\n",
    "    else:\n",
    "      branch = None\n",
    "      if isinstance(v, int) or isinstance(v, float):\n",
    "        if v >= tree.value: branch = tree.tb\n",
    "        else: branch = tree.fb\n",
    "      else:\n",
    "        if v == tree.value: branch = tree.tb\n",
    "        else: branch = tree.fb\n",
    "      return classify(observation, branch)"
   ]
  },
  {
   "cell_type": "code",
   "execution_count": 24,
   "metadata": {},
   "outputs": [],
   "source": [
    "def testdata():\n",
    "  def cleanup(s):\n",
    "    s = s.strip()\n",
    "    try:\n",
    "      return int(s)\n",
    "    except ValueError:\n",
    "      return s\n",
    "  return my_data"
   ]
  },
  {
   "cell_type": "code",
   "execution_count": 25,
   "metadata": {},
   "outputs": [
    {
     "name": "stdout",
     "output_type": "stream",
     "text": [
      "0:google?\n",
      "3:18?\n",
      "2:no?\n",
      "{'None\\n': 1}\n",
      "    T-> None\n",
      "{'Basic\\n': 1}\n",
      "    F-> None\n",
      "  T-> None\n",
      "{'Premium\\n': 3}\n",
      "  F-> None\n",
      "T-> None\n",
      "3:19?\n",
      "0:kiwitobes?\n",
      "1:France?\n",
      "{'Basic': 1}\n",
      "      T-> None\n",
      "{'None\\n': 1}\n",
      "      F-> None\n",
      "    T-> None\n",
      "{'None\\n': 1}\n",
      "    F-> None\n",
      "  T-> None\n",
      "0:slashdot?\n",
      "{'None\\n': 2}\n",
      "    T-> None\n",
      "2:no?\n",
      "1:UK?\n",
      "{'Basic\\n': 1}\n",
      "        T-> None\n",
      "{'None\\n': 2}\n",
      "        F-> None\n",
      "      T-> None\n",
      "{'Basic\\n': 3}\n",
      "      F-> None\n",
      "    F-> None\n",
      "  F-> None\n",
      "F-> None\n"
     ]
    },
    {
     "ename": "TypeError",
     "evalue": "'>=' not supported between instances of 'int' and 'str'",
     "output_type": "error",
     "traceback": [
      "\u001b[1;31m---------------------------------------------------------------------------\u001b[0m",
      "\u001b[1;31mTypeError\u001b[0m                                 Traceback (most recent call last)",
      "\u001b[1;32m<ipython-input-25-1919d7e21e27>\u001b[0m in \u001b[0;36m<module>\u001b[1;34m\u001b[0m\n\u001b[0;32m      3\u001b[0m   \u001b[0mtree\u001b[0m \u001b[1;33m=\u001b[0m \u001b[0mbuildtree\u001b[0m\u001b[1;33m(\u001b[0m\u001b[0mtestdata\u001b[0m\u001b[1;33m(\u001b[0m\u001b[1;33m)\u001b[0m\u001b[1;33m)\u001b[0m\u001b[1;33m\u001b[0m\u001b[1;33m\u001b[0m\u001b[0m\n\u001b[0;32m      4\u001b[0m   \u001b[0mprinttree\u001b[0m\u001b[1;33m(\u001b[0m\u001b[0mtree\u001b[0m\u001b[1;33m)\u001b[0m\u001b[1;33m\u001b[0m\u001b[1;33m\u001b[0m\u001b[0m\n\u001b[1;32m----> 5\u001b[1;33m   \u001b[0mprint\u001b[0m\u001b[1;33m(\u001b[0m\u001b[0mclassify\u001b[0m\u001b[1;33m(\u001b[0m\u001b[1;33m[\u001b[0m\u001b[1;34m'(direct)'\u001b[0m\u001b[1;33m,\u001b[0m \u001b[1;34m'USA'\u001b[0m\u001b[1;33m,\u001b[0m \u001b[1;34m'yes'\u001b[0m\u001b[1;33m,\u001b[0m \u001b[1;36m5\u001b[0m\u001b[1;33m]\u001b[0m\u001b[1;33m,\u001b[0m \u001b[0mtree\u001b[0m\u001b[1;33m)\u001b[0m\u001b[1;33m)\u001b[0m\u001b[1;33m\u001b[0m\u001b[1;33m\u001b[0m\u001b[0m\n\u001b[0m\u001b[0;32m      6\u001b[0m \u001b[1;33m\u001b[0m\u001b[0m\n\u001b[0;32m      7\u001b[0m   \u001b[0mprune\u001b[0m\u001b[1;33m(\u001b[0m\u001b[0mtree\u001b[0m\u001b[1;33m,\u001b[0m \u001b[1;36m0.1\u001b[0m\u001b[1;33m)\u001b[0m\u001b[1;33m\u001b[0m\u001b[1;33m\u001b[0m\u001b[0m\n",
      "\u001b[1;32m<ipython-input-14-fbcad4097cd9>\u001b[0m in \u001b[0;36mclassify\u001b[1;34m(observation, tree)\u001b[0m\n\u001b[0;32m     11\u001b[0m       \u001b[1;32mif\u001b[0m \u001b[0mv\u001b[0m \u001b[1;33m==\u001b[0m \u001b[0mtree\u001b[0m\u001b[1;33m.\u001b[0m\u001b[0mvalue\u001b[0m\u001b[1;33m:\u001b[0m \u001b[0mbranch\u001b[0m \u001b[1;33m=\u001b[0m \u001b[0mtree\u001b[0m\u001b[1;33m.\u001b[0m\u001b[0mtb\u001b[0m\u001b[1;33m\u001b[0m\u001b[1;33m\u001b[0m\u001b[0m\n\u001b[0;32m     12\u001b[0m       \u001b[1;32melse\u001b[0m\u001b[1;33m:\u001b[0m \u001b[0mbranch\u001b[0m \u001b[1;33m=\u001b[0m \u001b[0mtree\u001b[0m\u001b[1;33m.\u001b[0m\u001b[0mfb\u001b[0m\u001b[1;33m\u001b[0m\u001b[1;33m\u001b[0m\u001b[0m\n\u001b[1;32m---> 13\u001b[1;33m     \u001b[1;32mreturn\u001b[0m \u001b[0mclassify\u001b[0m\u001b[1;33m(\u001b[0m\u001b[0mobservation\u001b[0m\u001b[1;33m,\u001b[0m \u001b[0mbranch\u001b[0m\u001b[1;33m)\u001b[0m\u001b[1;33m\u001b[0m\u001b[1;33m\u001b[0m\u001b[0m\n\u001b[0m",
      "\u001b[1;32m<ipython-input-14-fbcad4097cd9>\u001b[0m in \u001b[0;36mclassify\u001b[1;34m(observation, tree)\u001b[0m\n\u001b[0;32m      6\u001b[0m     \u001b[0mbranch\u001b[0m \u001b[1;33m=\u001b[0m \u001b[1;32mNone\u001b[0m\u001b[1;33m\u001b[0m\u001b[1;33m\u001b[0m\u001b[0m\n\u001b[0;32m      7\u001b[0m     \u001b[1;32mif\u001b[0m \u001b[0misinstance\u001b[0m\u001b[1;33m(\u001b[0m\u001b[0mv\u001b[0m\u001b[1;33m,\u001b[0m \u001b[0mint\u001b[0m\u001b[1;33m)\u001b[0m \u001b[1;32mor\u001b[0m \u001b[0misinstance\u001b[0m\u001b[1;33m(\u001b[0m\u001b[0mv\u001b[0m\u001b[1;33m,\u001b[0m \u001b[0mfloat\u001b[0m\u001b[1;33m)\u001b[0m\u001b[1;33m:\u001b[0m\u001b[1;33m\u001b[0m\u001b[1;33m\u001b[0m\u001b[0m\n\u001b[1;32m----> 8\u001b[1;33m       \u001b[1;32mif\u001b[0m \u001b[0mv\u001b[0m \u001b[1;33m>=\u001b[0m \u001b[0mtree\u001b[0m\u001b[1;33m.\u001b[0m\u001b[0mvalue\u001b[0m\u001b[1;33m:\u001b[0m \u001b[0mbranch\u001b[0m \u001b[1;33m=\u001b[0m \u001b[0mtree\u001b[0m\u001b[1;33m.\u001b[0m\u001b[0mtb\u001b[0m\u001b[1;33m\u001b[0m\u001b[1;33m\u001b[0m\u001b[0m\n\u001b[0m\u001b[0;32m      9\u001b[0m       \u001b[1;32melse\u001b[0m\u001b[1;33m:\u001b[0m \u001b[0mbranch\u001b[0m \u001b[1;33m=\u001b[0m \u001b[0mtree\u001b[0m\u001b[1;33m.\u001b[0m\u001b[0mfb\u001b[0m\u001b[1;33m\u001b[0m\u001b[1;33m\u001b[0m\u001b[0m\n\u001b[0;32m     10\u001b[0m     \u001b[1;32melse\u001b[0m\u001b[1;33m:\u001b[0m\u001b[1;33m\u001b[0m\u001b[1;33m\u001b[0m\u001b[0m\n",
      "\u001b[1;31mTypeError\u001b[0m: '>=' not supported between instances of 'int' and 'str'"
     ]
    }
   ],
   "source": [
    "if __name__ == '__main__':\n",
    "\n",
    "  tree = buildtree(testdata())\n",
    "  printtree(tree)\n",
    "  print(classify(['(direct)', 'USA', 'yes', 5], tree))\n",
    "\n",
    "  prune(tree, 0.1)\n",
    "  printtree(tree)\n",
    "  prune(tree, 1.0)\n",
    "  printtree(tree)"
   ]
  },
  {
   "cell_type": "code",
   "execution_count": null,
   "metadata": {},
   "outputs": [],
   "source": []
  }
 ],
 "metadata": {
  "kernelspec": {
   "display_name": "Python 3",
   "language": "python",
   "name": "python3"
  },
  "language_info": {
   "codemirror_mode": {
    "name": "ipython",
    "version": 3
   },
   "file_extension": ".py",
   "mimetype": "text/x-python",
   "name": "python",
   "nbconvert_exporter": "python",
   "pygments_lexer": "ipython3",
   "version": "3.6.7"
  }
 },
 "nbformat": 4,
 "nbformat_minor": 2
}
